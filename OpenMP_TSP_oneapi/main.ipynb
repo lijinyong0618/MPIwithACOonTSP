{
 "cells": [
  {
   "cell_type": "code",
   "execution_count": 31,
   "id": "de6b882c-45cf-47a4-ac88-12552a731011",
   "metadata": {},
   "outputs": [
    {
     "data": {
      "text/plain": [
       "\u001b[0;31m#!/bin/bash\u001b[0m\u001b[0;34m\u001b[0m\n",
       "\u001b[0;34m\u001b[0m\u001b[0;34m/\u001b[0m\u001b[0mbin\u001b[0m\u001b[0;34m/\u001b[0m\u001b[0mecho\u001b[0m \u001b[0;34m\"##\"\u001b[0m\u001b[0;31m \u001b[0m\u001b[0;31m$\u001b[0m\u001b[0;34m(\u001b[0m\u001b[0mwhoami\u001b[0m\u001b[0;34m)\u001b[0m \u001b[0;32mis\u001b[0m \u001b[0mcompiling\u001b[0m\u001b[0;34m\u001b[0m\n",
       "\u001b[0;34m\u001b[0m\u001b[0mecho\u001b[0m \u001b[0;34m\"########## Compiling\"\u001b[0m\u001b[0;34m\u001b[0m\n",
       "\u001b[0;34m\u001b[0m\u001b[0mg\u001b[0m\u001b[0;34m+\u001b[0m\u001b[0;34m+\u001b[0m \u001b[0;34m-\u001b[0m\u001b[0mfopenmp\u001b[0m \u001b[0mACS_parallel\u001b[0m\u001b[0;34m.\u001b[0m\u001b[0mcpp\u001b[0m\u001b[0;34m\u001b[0m\n",
       "\u001b[0;34m\u001b[0m\u001b[0mecho\u001b[0m \u001b[0;34m\"########## Executing\"\u001b[0m\u001b[0;34m\u001b[0m\n",
       "\u001b[0;34m\u001b[0m\u001b[0;34m.\u001b[0m\u001b[0;34m/\u001b[0m\u001b[0ma\u001b[0m\u001b[0;34m.\u001b[0m\u001b[0mout\u001b[0m\u001b[0;34m\u001b[0m\n",
       "\u001b[0;34m\u001b[0m\u001b[0mecho\u001b[0m \u001b[0;34m\"########## Done\"\u001b[0m\u001b[0;34m\u001b[0m\u001b[0;34m\u001b[0m\u001b[0m\n"
      ]
     },
     "metadata": {},
     "output_type": "display_data"
    }
   ],
   "source": [
    "#Optional: Examine contents of run.sh\n",
    "%pycat run.sh"
   ]
  },
  {
   "cell_type": "code",
   "execution_count": 30,
   "id": "27bafc7c-a140-4449-a59c-03ade677d926",
   "metadata": {},
   "outputs": [
    {
     "name": "stdout",
     "output_type": "stream",
     "text": [
      "Job has been submitted to Intel(R) DevCloud and will execute soon.\n",
      "\n",
      " If you do not see result in 60 seconds, please restart the Jupyter kernel:\n",
      " Kernel -> 'Restart Kernel and Clear All Outputs...' and then try again\n",
      "\n",
      "Job ID                    Name             User            Time Use S Queue\n",
      "------------------------- ---------------- --------------- -------- - -----\n",
      "2099387.v-qsvr-1           ...ub-singleuser u173566         00:01:08 R jupyterhub     \n",
      "2099434.v-qsvr-1           run.sh           u173566                0 Q batch          \n",
      "\n",
      "Waiting for Output █████████████ Done⬇\n",
      "\n",
      "########################################################################\n",
      "#      Date:           Tue 20 Dec 2022 07:27:31 PM PST\n",
      "#    Job ID:           2099434.v-qsvr-1.aidevcloud\n",
      "#      User:           u173566\n",
      "# Resources:           cput=75:00:00,neednodes=1:gpu:ppn=2,nodes=1:gpu:ppn=2,walltime=06:00:00\n",
      "########################################################################\n",
      "\n",
      "## u173566 is compiling\n",
      "########## Compiling\n",
      "########## Executing\n",
      "*****************************\n",
      "The best is:iteration: 1685\n",
      "track: 0->91->7->41->88->30->79->55->96->3->64->25->65->69->21->93->15->87->78->52->18->74->5->48->89->9->83->17->23->37->98->35->71->20->73->58->16->14->10->31->44->90->97->22->59->61->76->50->86->8->6->56->19->85->34->26->11->54->82->33->28->45->42->2->13->70->40->99->47->51->77->95->4->36->32->75->12->94->81->38->29->84->67->72->49->43->1->53->39->63->68->80->24->60->57->66->27->92->46->62->0\n",
      "total_leangth: 21759\n",
      "\n",
      "run time: 2729.08s\n",
      "\n",
      "########################################################################\n",
      "# End of output for job 2099434.v-qsvr-1.aidevcloud\n",
      "# Date: Tue 20 Dec 2022 07:27:34 PM PST\n",
      "########################################################################\n",
      "\n",
      "Job Completed in 13 seconds.\n"
     ]
    }
   ],
   "source": [
    "# Execute this cell to compile and run the code\n",
    "! chmod 755 q; chmod 755 run.sh;if [ -x \"$(command -v qsub)\" ]; then ./q run.sh; else ./run.sh; fi"
   ]
  },
  {
   "cell_type": "code",
   "execution_count": null,
   "id": "d1f81980-7058-416f-a4dd-bd5787b1118c",
   "metadata": {},
   "outputs": [],
   "source": []
  }
 ],
 "metadata": {
  "kernelspec": {
   "display_name": "Python 3 (Intel® oneAPI 2023.0)",
   "language": "python",
   "name": "c009-intel_distribution_of_python_3_oneapi-beta05-python"
  },
  "language_info": {
   "codemirror_mode": {
    "name": "ipython",
    "version": 3
   },
   "file_extension": ".py",
   "mimetype": "text/x-python",
   "name": "python",
   "nbconvert_exporter": "python",
   "pygments_lexer": "ipython3",
   "version": "3.9.15"
  }
 },
 "nbformat": 4,
 "nbformat_minor": 5
}
